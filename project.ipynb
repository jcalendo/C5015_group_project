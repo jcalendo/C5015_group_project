{
 "cells": [
  {
   "cell_type": "markdown",
   "metadata": {},
   "source": [
    "# Using Python to analyze genome data\n",
    "\n",
    "We will be making heavy use of the BioPython module. The BioPython module is a set of bioinformatics tools that attempt to make it as easy as possible to use Python for bioinformatics. The Bio module will enable use to collect sequences from online servers, parse them, align them, and analyze them. \n",
    "\n",
    "## What is a genome and why analyze it?\n",
    "DNA is the chemical compound that contains the instructions needed to develop and direct the activites of organisms. Each DNA strand is made of chemical units called nucleotides that pair together to form a genetic alphabet. The combination of the A's, C's, T's, and G's which make up this alphabet determines the meaning of the information encoded by the strand of DNA. A genome is the complete set of all the DNA strands. Scientists are primarily concerned with those regions of the DNA which code for proteins. Proteins make up body structures like organs and tissue, as well as control chemical reactions and carry signals between cells. When the DNA of a cell becomes damaged or mutated, a defective protein may be produced. These defective proteins can disrupt normal processes in the body and can lead to disease. By studying the genetic code we can study the mutations that give rise to abnormal proteins. \n",
    "\n",
    "Genomics is not limited to the study of disease. DNA can be used to draw comparisons between individuals or entire species. The fields of comparitive and evolutionary genomics often use DNA or protein sequences to draw evolutionary relationships between organisms of different taxa in order to study biological similarites and differences between organisms.\n",
    "\n",
    "## How do we study genomes?\n",
    "Genomes are first sequenced to determine the exact order of their base pairs. The sequences are then assembled like a jigsaw puzzle in order to determine their linear order. Once these sequences are assembled we can start collecting information about particular genes. Often, the goal is to gather many homologous sequences (sequences that are shared between individuals - derived from a common ancestor) and compare them by looking for substitutions, deletions, or additional base pairs. These differences between sequences can reveal variations in functionality of proteins or ellucidate evolutionary relationships between taxa. The necessary steps for these types of analyses are usually as follows: \n",
    "\n",
    "1. Determine a sequence of interest (this could be a specific gene responsible for some type of disease of illness)\n",
    "2. find homologous (similar/related) sequences by perfoming a BLAST search of a database containing sequence data and download them as FASTA files\n",
    "3. align these sequences (called a multiple sequence alignment or MSA)\n",
    "4. create a phylogenetic tree from the MSA\n",
    "5. make estimates and measurements based off of this tree\n",
    "6. other interesting things...\n",
    "\n",
    "\n",
    "##########################################################################################################################################################################"
   ]
  },
  {
   "cell_type": "markdown",
   "metadata": {},
   "source": [
    "## Step 1: Search and download sequences from NCBI database"
   ]
  },
  {
   "cell_type": "markdown",
   "metadata": {},
   "source": [
    "### import Entrez from the BioPython module and urllib\n",
    "This will let us automatically search NCBI databases and download results into FASTA files. "
   ]
  },
  {
   "cell_type": "code",
   "execution_count": 1,
   "metadata": {
    "collapsed": true
   },
   "outputs": [],
   "source": [
    "from Bio import Entrez\n",
    "from urllib.error import HTTPError"
   ]
  },
  {
   "cell_type": "markdown",
   "metadata": {},
   "source": [
    "### Set up our search query\n",
    "\n",
    "The most important step in the analysis is determining what gene or protein we want to study. For the sake of this project let's look for a gene everyone knows, BRCA1. The BRCA1 gene encodes a nuclear phosphoprotein that plays a role in maintaining genomic stability and acts as a tumor surpressor. Mutations in this gene account for approximately 40% of inherited breast cancers and more than 80% of inherited breast and ovarian cancers [ReSeq May 2009].\n",
    "\n",
    "#### Set search terms\n",
    "We can use the .esearch method to specify our search query of the Entrez gene database and then download all of the sequences we find into .fasta files for later analysis."
   ]
  },
  {
   "cell_type": "code",
   "execution_count": 2,
   "metadata": {},
   "outputs": [
    {
     "name": "stdout",
     "output_type": "stream",
     "text": [
      "Going to download record 1 to 3\n",
      "Going to download record 4 to 6\n",
      "Going to download record 7 to 9\n",
      "Going to download record 10 to 10\n"
     ]
    }
   ],
   "source": [
    "search_term = 'BRCA1'\n",
    "Entrez.email = 'tuc12093@temple.edu'\n",
    "search_handle = Entrez.esearch(db=\"nucleotide\",\n",
    "                               term=search_term,\n",
    "                               usehistory=\"y\",\n",
    "                               idtype=\"acc\")\n",
    "search_results = Entrez.read(search_handle)\n",
    "search_handle.close()\n",
    "\n",
    "acc_list = search_results[\"IdList\"]\n",
    "count = 10\n",
    "\n",
    "webenv = search_results[\"WebEnv\"]\n",
    "query_key = search_results[\"QueryKey\"]\n",
    "\n",
    "batch_size = 3\n",
    "outfile = search_term + \".fasta\"\n",
    "out_handle = open(outfile, \"w\")\n",
    "for start in range(0, count, batch_size):\n",
    "    end = min(count, start + batch_size)\n",
    "    print(\"Going to download record {} to {}\".format(start+1, end))\n",
    "    attempt = 0\n",
    "    while attempt < 3:\n",
    "        attempt += 1\n",
    "        try:\n",
    "            fetch_handle = Entrez.efetch(db=\"nucleotide\",\n",
    "                                         rettype=\"fasta\", retmode=\"text\",\n",
    "                                         retstart=start, retmax=batch_size,\n",
    "                                         webenv=webenv, query_key=query_key,\n",
    "                                         idtype=\"acc\")\n",
    "        except HTTPError as err:\n",
    "            if 500 <= err.code <= 599:\n",
    "                print(\"Received error from server {}\".format(err))\n",
    "                print(\"Attempt {} of 3\".format(attempt))\n",
    "                time.sleep(15)\n",
    "            else:\n",
    "                raise\n",
    "                \n",
    "    data = fetch_handle.read()\n",
    "    fetch_handle.close()\n",
    "    out_handle.write(data)\n",
    "    \n",
    "out_handle.close()"
   ]
  },
  {
   "cell_type": "markdown",
   "metadata": {},
   "source": [
    "### Perform multiple sequence alignment (MSA) on the fasta files\n",
    "Now that we have our sequences downloaded we can use the biopython module to perform a multiple sequence alignment. But first, what is a MSA?\n",
    "\n",
    "#### MSA\n",
    "MSAs are sequence alignments of three or more sequences or nucleotides or amino acids. In most cases, the sequences used as inputs to the MSA are assumed to be related (homologous). From the resultant MSA we can infer homology and perform phylogenetic analysis. In essence we are taking all of the input sequences and finding out which parts of them are all the same and which individual parts of a particular sequence might differ from the rest of the group.\n",
    "\n",
    "ex. using amino acids\n",
    "seq 1 = M Q P I L L P   ; aligned ==> M Q P I L L P\n",
    "seq 2 = M L R L P       ; aligned ==> M L R - L - P\n",
    "seq 3 = M P V I L K P   ; aligned ==> M P V I L K P\n",
    "\n",
    "MSA programs perform these alignments and then derive scores for each based on the relatedness of the pairing. The MSA with the best score is then used as the output MSA. Algorithms and scoring matrices for MSAs can get complicated so we'l just ignore the details for now. Just know that we need to align the raw sequences for further analysis and that programs exist to do just that.\n",
    "\n",
    "#### using MUSCLE for multiple sequence alignment\n",
    "MUSCLE is just one of many programs that can perform MSA. It exists as its own executable. Therefore, it is typically downloaded and then run from the command line like so...\n",
    "`muscle -in raw_fasta_files.fa -out aligned_fasta_files.afa`\n",
    "\n",
    "But we can use Python to call muscle and perform the alignment within our script"
   ]
  },
  {
   "cell_type": "code",
   "execution_count": 6,
   "metadata": {},
   "outputs": [
    {
     "name": "stdout",
     "output_type": "stream",
     "text": [
      "muscle -in BRCA1.fasta -out aligned.afa\n"
     ]
    }
   ],
   "source": [
    "from Bio.Align.Applications import MuscleCommandline\n",
    "\n",
    "\n",
    "command = MuscleCommandline(input='BRCA1.fasta', out=\"aligned.afa\")\n"
   ]
  },
  {
   "cell_type": "code",
   "execution_count": null,
   "metadata": {
    "collapsed": true
   },
   "outputs": [],
   "source": []
  }
 ],
 "metadata": {
  "kernelspec": {
   "display_name": "Python 3",
   "language": "python",
   "name": "python3"
  },
  "language_info": {
   "codemirror_mode": {
    "name": "ipython",
    "version": 3
   },
   "file_extension": ".py",
   "mimetype": "text/x-python",
   "name": "python",
   "nbconvert_exporter": "python",
   "pygments_lexer": "ipython3",
   "version": "3.6.3"
  }
 },
 "nbformat": 4,
 "nbformat_minor": 2
}
